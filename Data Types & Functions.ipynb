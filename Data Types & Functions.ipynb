{
 "cells": [
  {
   "cell_type": "markdown",
   "id": "03b4a674",
   "metadata": {},
   "source": [
    "# Session 1\n",
    "- Data Science and Machine Learning"
   ]
  },
  {
   "cell_type": "markdown",
   "id": "f168a0ed",
   "metadata": {},
   "source": [
    "## Data Types\n",
    "\n",
    "- Integer\n",
    "- Floats\n",
    "- Strings\n",
    "- Booleans\n",
    "- Lists\n",
    "- Tuples\n",
    "- Sets\n",
    "- Dictionaries"
   ]
  },
  {
   "cell_type": "code",
   "execution_count": null,
   "id": "16e1a4c6",
   "metadata": {},
   "outputs": [],
   "source": [
    "# use help to find out methods available to a data type\n",
    "\n",
    "# help(int)\n",
    "# help(str)\n",
    "# help(float\n",
    "help(set)"
   ]
  },
  {
   "cell_type": "markdown",
   "id": "37f2607f",
   "metadata": {},
   "source": [
    "## Integers\n",
    "Int, or integer, is a whole number, positive or negative, without decimals, of unlimited length."
   ]
  },
  {
   "cell_type": "code",
   "execution_count": 1,
   "id": "be07065b",
   "metadata": {},
   "outputs": [
    {
     "data": {
      "text/plain": [
       "100"
      ]
     },
     "execution_count": 1,
     "metadata": {},
     "output_type": "execute_result"
    }
   ],
   "source": [
    "# Whole Numbers\n",
    "100"
   ]
  },
  {
   "cell_type": "code",
   "execution_count": 2,
   "id": "a4e71d81",
   "metadata": {},
   "outputs": [
    {
     "data": {
      "text/plain": [
       "int"
      ]
     },
     "execution_count": 2,
     "metadata": {},
     "output_type": "execute_result"
    }
   ],
   "source": [
    "type(11001)"
   ]
  },
  {
   "cell_type": "markdown",
   "id": "318b6d78",
   "metadata": {},
   "source": [
    "## Float\n",
    "The difference between floating points and integers is decimal points. Floating point number can be represented as “1.0”, and integer can be represented as “1”. It is accurate up to 15 decimal places."
   ]
  },
  {
   "cell_type": "code",
   "execution_count": 3,
   "id": "403e4ee9",
   "metadata": {},
   "outputs": [
    {
     "data": {
      "text/plain": [
       "1.0"
      ]
     },
     "execution_count": 3,
     "metadata": {},
     "output_type": "execute_result"
    }
   ],
   "source": [
    "1.0"
   ]
  },
  {
   "cell_type": "code",
   "execution_count": null,
   "id": "ca6facd2",
   "metadata": {},
   "outputs": [],
   "source": [
    "type(1.0)"
   ]
  },
  {
   "cell_type": "markdown",
   "id": "2bd41bdf",
   "metadata": {},
   "source": [
    "## Basic Arithmetic\n",
    "The basic arithmetic operations for real numbers are addition, subtraction, multiplication, and division"
   ]
  },
  {
   "cell_type": "code",
   "execution_count": 4,
   "id": "8d86a076",
   "metadata": {},
   "outputs": [
    {
     "data": {
      "text/plain": [
       "200"
      ]
     },
     "execution_count": 4,
     "metadata": {},
     "output_type": "execute_result"
    }
   ],
   "source": [
    "# Addition\n",
    "100 + 100 \n"
   ]
  },
  {
   "cell_type": "code",
   "execution_count": 5,
   "id": "e9a31aef",
   "metadata": {},
   "outputs": [
    {
     "data": {
      "text/plain": [
       "int"
      ]
     },
     "execution_count": 5,
     "metadata": {},
     "output_type": "execute_result"
    }
   ],
   "source": [
    "type(120)"
   ]
  },
  {
   "cell_type": "code",
   "execution_count": null,
   "id": "b8650aa9",
   "metadata": {},
   "outputs": [],
   "source": [
    "2+2"
   ]
  },
  {
   "cell_type": "code",
   "execution_count": 6,
   "id": "889d5f43",
   "metadata": {},
   "outputs": [
    {
     "data": {
      "text/plain": [
       "0"
      ]
     },
     "execution_count": 6,
     "metadata": {},
     "output_type": "execute_result"
    }
   ],
   "source": [
    "# Subtraction\n",
    "2-2"
   ]
  },
  {
   "cell_type": "code",
   "execution_count": 7,
   "id": "3f7dcc10",
   "metadata": {},
   "outputs": [
    {
     "data": {
      "text/plain": [
       "10"
      ]
     },
     "execution_count": 7,
     "metadata": {},
     "output_type": "execute_result"
    }
   ],
   "source": [
    "abs(10-20)"
   ]
  },
  {
   "cell_type": "code",
   "execution_count": 8,
   "id": "8bddc535",
   "metadata": {},
   "outputs": [
    {
     "data": {
      "text/plain": [
       "400"
      ]
     },
     "execution_count": 8,
     "metadata": {},
     "output_type": "execute_result"
    }
   ],
   "source": [
    "# Multiplication\n",
    "20 * 20"
   ]
  },
  {
   "cell_type": "code",
   "execution_count": 9,
   "id": "7721e51c",
   "metadata": {},
   "outputs": [
    {
     "data": {
      "text/plain": [
       "200"
      ]
     },
     "execution_count": 9,
     "metadata": {},
     "output_type": "execute_result"
    }
   ],
   "source": [
    "100 * 2"
   ]
  },
  {
   "cell_type": "code",
   "execution_count": 10,
   "id": "dc8e19d5",
   "metadata": {},
   "outputs": [
    {
     "data": {
      "text/plain": [
       "2.0"
      ]
     },
     "execution_count": 10,
     "metadata": {},
     "output_type": "execute_result"
    }
   ],
   "source": [
    "# Division\n",
    "10/5"
   ]
  },
  {
   "cell_type": "code",
   "execution_count": 11,
   "id": "e1b00813",
   "metadata": {},
   "outputs": [
    {
     "data": {
      "text/plain": [
       "83.33333333333333"
      ]
     },
     "execution_count": 11,
     "metadata": {},
     "output_type": "execute_result"
    }
   ],
   "source": [
    "250/3"
   ]
  },
  {
   "cell_type": "code",
   "execution_count": 12,
   "id": "f5228f8e",
   "metadata": {},
   "outputs": [
    {
     "data": {
      "text/plain": [
       "float"
      ]
     },
     "execution_count": 12,
     "metadata": {},
     "output_type": "execute_result"
    }
   ],
   "source": [
    "type(250/3)"
   ]
  },
  {
   "cell_type": "code",
   "execution_count": 13,
   "id": "1fe40827",
   "metadata": {},
   "outputs": [
    {
     "data": {
      "text/plain": [
       "1"
      ]
     },
     "execution_count": 13,
     "metadata": {},
     "output_type": "execute_result"
    }
   ],
   "source": [
    "# Floor Division\n",
    "10//6"
   ]
  },
  {
   "cell_type": "code",
   "execution_count": 14,
   "id": "07d9d6c5",
   "metadata": {},
   "outputs": [
    {
     "data": {
      "text/plain": [
       "3"
      ]
     },
     "execution_count": 14,
     "metadata": {},
     "output_type": "execute_result"
    }
   ],
   "source": [
    "100//30"
   ]
  },
  {
   "cell_type": "code",
   "execution_count": 15,
   "id": "1363c1cc",
   "metadata": {},
   "outputs": [
    {
     "data": {
      "text/plain": [
       "10"
      ]
     },
     "execution_count": 15,
     "metadata": {},
     "output_type": "execute_result"
    }
   ],
   "source": [
    "# Modulo - To get the reminder\n",
    "100%30"
   ]
  },
  {
   "cell_type": "code",
   "execution_count": 16,
   "id": "6a34e597",
   "metadata": {},
   "outputs": [
    {
     "data": {
      "text/plain": [
       "4"
      ]
     },
     "execution_count": 16,
     "metadata": {},
     "output_type": "execute_result"
    }
   ],
   "source": [
    "10%6\n"
   ]
  },
  {
   "cell_type": "code",
   "execution_count": 17,
   "id": "f3c751fb",
   "metadata": {},
   "outputs": [
    {
     "data": {
      "text/plain": [
       "4"
      ]
     },
     "execution_count": 17,
     "metadata": {},
     "output_type": "execute_result"
    }
   ],
   "source": [
    "25//6"
   ]
  },
  {
   "cell_type": "code",
   "execution_count": 18,
   "id": "f768a262",
   "metadata": {},
   "outputs": [
    {
     "data": {
      "text/plain": [
       "1"
      ]
     },
     "execution_count": 18,
     "metadata": {},
     "output_type": "execute_result"
    }
   ],
   "source": [
    "25%6"
   ]
  },
  {
   "cell_type": "code",
   "execution_count": 19,
   "id": "0664fb37",
   "metadata": {},
   "outputs": [
    {
     "data": {
      "text/plain": [
       "1296"
      ]
     },
     "execution_count": 19,
     "metadata": {},
     "output_type": "execute_result"
    }
   ],
   "source": [
    "# Raised to Power\n",
    "36**2"
   ]
  },
  {
   "cell_type": "code",
   "execution_count": 20,
   "id": "f8859b0b",
   "metadata": {},
   "outputs": [
    {
     "data": {
      "text/plain": [
       "7056"
      ]
     },
     "execution_count": 20,
     "metadata": {},
     "output_type": "execute_result"
    }
   ],
   "source": [
    "84**2\n"
   ]
  },
  {
   "cell_type": "code",
   "execution_count": 21,
   "id": "bc84ce2d",
   "metadata": {},
   "outputs": [
    {
     "data": {
      "text/plain": [
       "1024"
      ]
     },
     "execution_count": 21,
     "metadata": {},
     "output_type": "execute_result"
    }
   ],
   "source": [
    "2**10"
   ]
  },
  {
   "cell_type": "code",
   "execution_count": 22,
   "id": "ec10574b",
   "metadata": {},
   "outputs": [
    {
     "data": {
      "text/plain": [
       "38.72983346207417"
      ]
     },
     "execution_count": 22,
     "metadata": {},
     "output_type": "execute_result"
    }
   ],
   "source": [
    "# Square-root\n",
    "1500**0.5"
   ]
  },
  {
   "cell_type": "code",
   "execution_count": 23,
   "id": "9f302ab9",
   "metadata": {},
   "outputs": [
    {
     "data": {
      "text/plain": [
       "11.0"
      ]
     },
     "execution_count": 23,
     "metadata": {},
     "output_type": "execute_result"
    }
   ],
   "source": [
    "121**0.5"
   ]
  },
  {
   "cell_type": "code",
   "execution_count": 24,
   "id": "82fcb196",
   "metadata": {},
   "outputs": [
    {
     "data": {
      "text/plain": [
       "200.0"
      ]
     },
     "execution_count": 24,
     "metadata": {},
     "output_type": "execute_result"
    }
   ],
   "source": [
    "# Order of Operation - BODMAS\n",
    "10 + (25 - 6) / 0.5 * 5"
   ]
  },
  {
   "cell_type": "code",
   "execution_count": 25,
   "id": "d70cab19",
   "metadata": {},
   "outputs": [
    {
     "data": {
      "text/plain": [
       "11.6"
      ]
     },
     "execution_count": 25,
     "metadata": {},
     "output_type": "execute_result"
    }
   ],
   "source": [
    "(10 + 25 - 6) / (0.5*5)"
   ]
  },
  {
   "cell_type": "code",
   "execution_count": 26,
   "id": "2543bb61",
   "metadata": {},
   "outputs": [
    {
     "data": {
      "text/plain": [
       "5.0"
      ]
     },
     "execution_count": 26,
     "metadata": {},
     "output_type": "execute_result"
    }
   ],
   "source": [
    "125**(1/3)"
   ]
  },
  {
   "cell_type": "code",
   "execution_count": 27,
   "id": "166388ea",
   "metadata": {},
   "outputs": [
    {
     "data": {
      "text/plain": [
       "float"
      ]
     },
     "execution_count": 27,
     "metadata": {},
     "output_type": "execute_result"
    }
   ],
   "source": [
    "# Floats\n",
    "type(0.5)"
   ]
  },
  {
   "cell_type": "markdown",
   "id": "4af8487a",
   "metadata": {},
   "source": [
    "## Variable Assignment\n",
    "Variables can store data of different types"
   ]
  },
  {
   "cell_type": "code",
   "execution_count": null,
   "id": "3a30bd75",
   "metadata": {},
   "outputs": [],
   "source": []
  },
  {
   "cell_type": "code",
   "execution_count": 50,
   "id": "f7f22e3b",
   "metadata": {},
   "outputs": [],
   "source": [
    "# Busayo = 90"
   ]
  },
  {
   "cell_type": "code",
   "execution_count": 51,
   "id": "4fc767b7",
   "metadata": {},
   "outputs": [],
   "source": [
    "name = 'Busayo'\n",
    "age = 22\n",
    "acct_bal = 5000.41\n",
    "\n"
   ]
  },
  {
   "cell_type": "code",
   "execution_count": 31,
   "id": "8c7710bb",
   "metadata": {},
   "outputs": [
    {
     "data": {
      "text/plain": [
       "str"
      ]
     },
     "execution_count": 31,
     "metadata": {},
     "output_type": "execute_result"
    }
   ],
   "source": [
    "type(name)"
   ]
  },
  {
   "cell_type": "code",
   "execution_count": 49,
   "id": "9883511e",
   "metadata": {},
   "outputs": [
    {
     "data": {
      "text/plain": [
       "int"
      ]
     },
     "execution_count": 49,
     "metadata": {},
     "output_type": "execute_result"
    }
   ],
   "source": [
    "type(age)"
   ]
  },
  {
   "cell_type": "code",
   "execution_count": 57,
   "id": "e024dd45",
   "metadata": {},
   "outputs": [
    {
     "data": {
      "text/plain": [
       "120"
      ]
     },
     "execution_count": 57,
     "metadata": {},
     "output_type": "execute_result"
    }
   ],
   "source": [
    "age + Busayo"
   ]
  },
  {
   "cell_type": "code",
   "execution_count": 54,
   "id": "09fca659",
   "metadata": {},
   "outputs": [
    {
     "data": {
      "text/plain": [
       "float"
      ]
     },
     "execution_count": 54,
     "metadata": {},
     "output_type": "execute_result"
    }
   ],
   "source": [
    "type(acct_bal)"
   ]
  },
  {
   "cell_type": "code",
   "execution_count": 47,
   "id": "55edd2f9",
   "metadata": {},
   "outputs": [
    {
     "data": {
      "text/plain": [
       "'Busayo'"
      ]
     },
     "execution_count": 47,
     "metadata": {},
     "output_type": "execute_result"
    }
   ],
   "source": [
    "name"
   ]
  },
  {
   "cell_type": "code",
   "execution_count": 58,
   "id": "016469cc",
   "metadata": {},
   "outputs": [
    {
     "data": {
      "text/plain": [
       "484"
      ]
     },
     "execution_count": 58,
     "metadata": {},
     "output_type": "execute_result"
    }
   ],
   "source": [
    "age * age"
   ]
  },
  {
   "cell_type": "code",
   "execution_count": 59,
   "id": "06fab564",
   "metadata": {},
   "outputs": [
    {
     "data": {
      "text/plain": [
       "484"
      ]
     },
     "execution_count": 59,
     "metadata": {},
     "output_type": "execute_result"
    }
   ],
   "source": [
    "22 * 22"
   ]
  },
  {
   "cell_type": "code",
   "execution_count": 60,
   "id": "c9a41c85",
   "metadata": {},
   "outputs": [
    {
     "data": {
      "text/plain": [
       "341427877364219557396646723584"
      ]
     },
     "execution_count": 60,
     "metadata": {},
     "output_type": "execute_result"
    }
   ],
   "source": [
    "age ** age"
   ]
  },
  {
   "cell_type": "code",
   "execution_count": null,
   "id": "ed13dcfb",
   "metadata": {},
   "outputs": [],
   "source": []
  },
  {
   "cell_type": "code",
   "execution_count": null,
   "id": "03980e94",
   "metadata": {},
   "outputs": [],
   "source": [
    "#Dont start with a number\n",
    "#Dont start with special characters\n",
    "#NO SPACE\n",
    "\n",
    "total_Cost = 1"
   ]
  },
  {
   "cell_type": "code",
   "execution_count": 61,
   "id": "0ddbcc8c",
   "metadata": {},
   "outputs": [],
   "source": [
    "dami = 100"
   ]
  },
  {
   "cell_type": "code",
   "execution_count": 62,
   "id": "1a305f56",
   "metadata": {},
   "outputs": [
    {
     "data": {
      "text/plain": [
       "100"
      ]
     },
     "execution_count": 62,
     "metadata": {},
     "output_type": "execute_result"
    }
   ],
   "source": [
    "dami"
   ]
  },
  {
   "cell_type": "code",
   "execution_count": 63,
   "id": "27b6f08f",
   "metadata": {},
   "outputs": [
    {
     "data": {
      "text/plain": [
       "73.0"
      ]
     },
     "execution_count": 63,
     "metadata": {},
     "output_type": "execute_result"
    }
   ],
   "source": [
    "# Example\n",
    "first_test = 5\n",
    "second_test = 10.4\n",
    "attendance = 2.6\n",
    "exam = 55\n",
    "\n",
    "total_score = first_test + second_test + attendance + exam\n",
    "\n",
    "total_score"
   ]
  },
  {
   "cell_type": "code",
   "execution_count": 64,
   "id": "be101de1",
   "metadata": {},
   "outputs": [
    {
     "data": {
      "text/plain": [
       "float"
      ]
     },
     "execution_count": 64,
     "metadata": {},
     "output_type": "execute_result"
    }
   ],
   "source": [
    "type(total_score)"
   ]
  },
  {
   "cell_type": "code",
   "execution_count": 67,
   "id": "6437b203",
   "metadata": {},
   "outputs": [
    {
     "name": "stdout",
     "output_type": "stream",
     "text": [
      "Enter your Pin:1234\n"
     ]
    }
   ],
   "source": [
    "PIN = input(\"Enter your Pin:\")"
   ]
  },
  {
   "cell_type": "code",
   "execution_count": 69,
   "id": "26a3dfcb",
   "metadata": {},
   "outputs": [
    {
     "data": {
      "text/plain": [
       "str"
      ]
     },
     "execution_count": 69,
     "metadata": {},
     "output_type": "execute_result"
    }
   ],
   "source": [
    "type(PIN)"
   ]
  },
  {
   "cell_type": "code",
   "execution_count": 66,
   "id": "7c5c13f0",
   "metadata": {},
   "outputs": [
    {
     "name": "stdout",
     "output_type": "stream",
     "text": [
      "What is your score for first test: 110\n",
      "What is your score for second test: 57\n",
      "What is your score for attendance: 23\n",
      "What is your score for exam: 115\n"
     ]
    },
    {
     "data": {
      "text/plain": [
       "305"
      ]
     },
     "execution_count": 66,
     "metadata": {},
     "output_type": "execute_result"
    }
   ],
   "source": [
    "# Student Calculator\n",
    "\n",
    "first_test = int(input(\"What is your score for first test: \"))\n",
    "second_test = int(input(\"What is your score for second test: \"))\n",
    "attendance = int(input(\"What is your score for attendance: \"))\n",
    "exam = int(input(\"What is your score for exam: \"))\n",
    "\n",
    "total_score = first_test + second_test + attendance + exam\n",
    "\n",
    "total_score"
   ]
  },
  {
   "cell_type": "markdown",
   "id": "66aa907c",
   "metadata": {},
   "source": [
    "## Strings\n",
    "A String is a sequence of Unicode characters. In Python, String is called str. \n",
    "Strings are represented by using Double quotes or single quotes. \n",
    "If the strings are multiple, then it can be denoted by the use of triple quotes “”” or ”’. \n",
    "All the characters between the quotes are items of the string."
   ]
  },
  {
   "cell_type": "code",
   "execution_count": 70,
   "id": "759af89c",
   "metadata": {},
   "outputs": [
    {
     "data": {
      "text/plain": [
       "'hello world'"
      ]
     },
     "execution_count": 70,
     "metadata": {},
     "output_type": "execute_result"
    }
   ],
   "source": [
    "# Strings - Text\n",
    "\"hello world\""
   ]
  },
  {
   "cell_type": "code",
   "execution_count": 71,
   "id": "ae4db9c2",
   "metadata": {},
   "outputs": [
    {
     "data": {
      "text/plain": [
       "'hello world'"
      ]
     },
     "execution_count": 71,
     "metadata": {},
     "output_type": "execute_result"
    }
   ],
   "source": [
    "'hello world'"
   ]
  },
  {
   "cell_type": "code",
   "execution_count": 72,
   "id": "50cd0101",
   "metadata": {},
   "outputs": [
    {
     "name": "stdout",
     "output_type": "stream",
     "text": [
      "Hello World\n"
     ]
    }
   ],
   "source": [
    "print(\"Hello World\")"
   ]
  },
  {
   "cell_type": "code",
   "execution_count": 73,
   "id": "87166aff",
   "metadata": {},
   "outputs": [
    {
     "data": {
      "text/plain": [
       "str"
      ]
     },
     "execution_count": 73,
     "metadata": {},
     "output_type": "execute_result"
    }
   ],
   "source": [
    "type(\"Damilola\")"
   ]
  },
  {
   "cell_type": "code",
   "execution_count": 75,
   "id": "98fc31c5",
   "metadata": {},
   "outputs": [
    {
     "data": {
      "text/plain": [
       "\"I'm a boy\""
      ]
     },
     "execution_count": 75,
     "metadata": {},
     "output_type": "execute_result"
    }
   ],
   "source": [
    "\"I'm a boy\""
   ]
  },
  {
   "cell_type": "code",
   "execution_count": 76,
   "id": "67e2a8a5",
   "metadata": {},
   "outputs": [
    {
     "data": {
      "text/plain": [
       "\"I'm a boy\""
      ]
     },
     "execution_count": 76,
     "metadata": {},
     "output_type": "execute_result"
    }
   ],
   "source": [
    "'I\\'m a boy'"
   ]
  },
  {
   "cell_type": "code",
   "execution_count": 77,
   "id": "9f3e4aa2",
   "metadata": {},
   "outputs": [
    {
     "data": {
      "text/plain": [
       "7"
      ]
     },
     "execution_count": 77,
     "metadata": {},
     "output_type": "execute_result"
    }
   ],
   "source": [
    "len(\"Ademola\")"
   ]
  },
  {
   "cell_type": "code",
   "execution_count": null,
   "id": "9c6a2be9",
   "metadata": {},
   "outputs": [],
   "source": []
  },
  {
   "cell_type": "code",
   "execution_count": 78,
   "id": "a6fc3252",
   "metadata": {},
   "outputs": [
    {
     "name": "stdout",
     "output_type": "stream",
     "text": [
      "my name is \tEfemena\n"
     ]
    }
   ],
   "source": [
    "print(\"my name is \\tEfemena\")"
   ]
  },
  {
   "cell_type": "code",
   "execution_count": 79,
   "id": "9966d10e",
   "metadata": {},
   "outputs": [
    {
     "name": "stdout",
     "output_type": "stream",
     "text": [
      "My name is \n",
      "Efemena\n"
     ]
    }
   ],
   "source": [
    "print(\"My name is \\nEfemena\")"
   ]
  },
  {
   "cell_type": "code",
   "execution_count": 80,
   "id": "80f6e34e",
   "metadata": {},
   "outputs": [
    {
     "name": "stdout",
     "output_type": "stream",
     "text": [
      "my name is \tEfemena\n",
      "My name is \n",
      "Efemena\n"
     ]
    }
   ],
   "source": [
    "#tags - tab, Next line\n",
    "print(\"my name is \\tEfemena\")\n",
    "\n",
    "print(\"My name is \\nEfemena\")"
   ]
  },
  {
   "cell_type": "code",
   "execution_count": 81,
   "id": "5a868fa3",
   "metadata": {},
   "outputs": [],
   "source": [
    "name = \"Chuka\""
   ]
  },
  {
   "cell_type": "code",
   "execution_count": 82,
   "id": "6c1a1a5d",
   "metadata": {},
   "outputs": [
    {
     "data": {
      "text/plain": [
       "'Chuka'"
      ]
     },
     "execution_count": 82,
     "metadata": {},
     "output_type": "execute_result"
    }
   ],
   "source": [
    "name"
   ]
  },
  {
   "cell_type": "code",
   "execution_count": 11,
   "id": "d9b27b25",
   "metadata": {},
   "outputs": [
    {
     "name": "stdout",
     "output_type": "stream",
     "text": [
      "What is your first name: Busayo\n",
      "What is your last name: Olansebe\n"
     ]
    },
    {
     "data": {
      "text/plain": [
       "'Busayo Olansebe'"
      ]
     },
     "execution_count": 11,
     "metadata": {},
     "output_type": "execute_result"
    }
   ],
   "source": [
    "first_name = input(\"What is your first name: \")\n",
    "last_name = input(\"What is your last name: \")\n",
    "\n",
    "full_name = first_name + \" \" + last_name\n",
    "\n",
    "full_name"
   ]
  },
  {
   "cell_type": "code",
   "execution_count": 84,
   "id": "c69f30f6",
   "metadata": {},
   "outputs": [
    {
     "data": {
      "text/plain": [
       "15"
      ]
     },
     "execution_count": 84,
     "metadata": {},
     "output_type": "execute_result"
    }
   ],
   "source": [
    "len(full_name)"
   ]
  },
  {
   "cell_type": "markdown",
   "id": "0900af63",
   "metadata": {},
   "source": [
    "## Indexing and Slicing\n",
    "- Indexing: Indexing is used to obtain individual elements.\n",
    "- Slicing: Slicing is used to obtain a sequence of elements.\n",
    "\n",
    "\n",
    "Indexing starts from 0. Index 0 represents the first element in the sequence.\n",
    "Negative indexing starts from -1. Index -1 represents the last element in the sequence."
   ]
  },
  {
   "cell_type": "code",
   "execution_count": 92,
   "id": "15ba3a20",
   "metadata": {},
   "outputs": [
    {
     "data": {
      "text/plain": [
       "('B', 'u', 's', 'a', 'y', 'o', ' ', 'O', 'l', 'a', 'n', 's', 'e', 'b', 'e')"
      ]
     },
     "execution_count": 92,
     "metadata": {},
     "output_type": "execute_result"
    }
   ],
   "source": [
    "full_name[0], full_name[1], full_name[2], full_name[3], full_name[4], full_name[5], full_name[6], full_name[7], full_name[8], full_name[9], full_name[10], full_name[11], full_name[12], full_name[13], full_name[14]"
   ]
  },
  {
   "cell_type": "code",
   "execution_count": 85,
   "id": "7d1c5ffa",
   "metadata": {},
   "outputs": [
    {
     "data": {
      "text/plain": [
       "'B'"
      ]
     },
     "execution_count": 85,
     "metadata": {},
     "output_type": "execute_result"
    }
   ],
   "source": [
    "#Indexing\n",
    "full_name[0]"
   ]
  },
  {
   "cell_type": "code",
   "execution_count": 86,
   "id": "33bebb76",
   "metadata": {},
   "outputs": [
    {
     "data": {
      "text/plain": [
       "'o'"
      ]
     },
     "execution_count": 86,
     "metadata": {},
     "output_type": "execute_result"
    }
   ],
   "source": [
    "full_name[5]"
   ]
  },
  {
   "cell_type": "code",
   "execution_count": 95,
   "id": "9e03a427",
   "metadata": {},
   "outputs": [
    {
     "data": {
      "text/plain": [
       "' '"
      ]
     },
     "execution_count": 95,
     "metadata": {},
     "output_type": "execute_result"
    }
   ],
   "source": [
    "full_name[6]"
   ]
  },
  {
   "cell_type": "code",
   "execution_count": 93,
   "id": "64a62de7",
   "metadata": {},
   "outputs": [
    {
     "data": {
      "text/plain": [
       "'e'"
      ]
     },
     "execution_count": 93,
     "metadata": {},
     "output_type": "execute_result"
    }
   ],
   "source": [
    "full_name[-3]"
   ]
  },
  {
   "cell_type": "code",
   "execution_count": 88,
   "id": "74e79b14",
   "metadata": {},
   "outputs": [
    {
     "data": {
      "text/plain": [
       "'Busayo Olansebe'"
      ]
     },
     "execution_count": 88,
     "metadata": {},
     "output_type": "execute_result"
    }
   ],
   "source": [
    "# Slicing\n",
    "full_name"
   ]
  },
  {
   "cell_type": "code",
   "execution_count": 94,
   "id": "80b10a18",
   "metadata": {},
   "outputs": [
    {
     "data": {
      "text/plain": [
       "'Busayo Olansebe'"
      ]
     },
     "execution_count": 94,
     "metadata": {},
     "output_type": "execute_result"
    }
   ],
   "source": [
    "full_name[:] "
   ]
  },
  {
   "cell_type": "code",
   "execution_count": 97,
   "id": "26ed2cc0",
   "metadata": {},
   "outputs": [
    {
     "data": {
      "text/plain": [
       "'Olansebe'"
      ]
     },
     "execution_count": 97,
     "metadata": {},
     "output_type": "execute_result"
    }
   ],
   "source": [
    "full_name[7:15] "
   ]
  },
  {
   "cell_type": "code",
   "execution_count": 12,
   "id": "f741c8e8",
   "metadata": {},
   "outputs": [
    {
     "data": {
      "text/plain": [
       "'s'"
      ]
     },
     "execution_count": 12,
     "metadata": {},
     "output_type": "execute_result"
    }
   ],
   "source": [
    "full_name[2:7:15] "
   ]
  },
  {
   "cell_type": "markdown",
   "id": "d0453b41",
   "metadata": {},
   "source": [
    "### [START : STOP : STEP]\n",
    "     [0 : 14 : 2]"
   ]
  },
  {
   "cell_type": "code",
   "execution_count": 98,
   "id": "709733cb",
   "metadata": {},
   "outputs": [
    {
     "data": {
      "text/plain": [
       "'usayo O'"
      ]
     },
     "execution_count": 98,
     "metadata": {},
     "output_type": "execute_result"
    }
   ],
   "source": [
    "full_name[1:8]"
   ]
  },
  {
   "cell_type": "code",
   "execution_count": 99,
   "id": "435f5e7c",
   "metadata": {},
   "outputs": [
    {
     "data": {
      "text/plain": [
       "'o Olansebe'"
      ]
     },
     "execution_count": 99,
     "metadata": {},
     "output_type": "execute_result"
    }
   ],
   "source": [
    "full_name[5:]"
   ]
  },
  {
   "cell_type": "code",
   "execution_count": 100,
   "id": "2f25cbe0",
   "metadata": {},
   "outputs": [
    {
     "data": {
      "text/plain": [
       "'Busa'"
      ]
     },
     "execution_count": 100,
     "metadata": {},
     "output_type": "execute_result"
    }
   ],
   "source": [
    "full_name[0:4]"
   ]
  },
  {
   "cell_type": "code",
   "execution_count": 102,
   "id": "4cc467d1",
   "metadata": {},
   "outputs": [
    {
     "data": {
      "text/plain": [
       "('B', 'u', 's', 'a', 'y', 'o', ' ', 'O', 'l', 'a', 'n', 's', 'e', 'b', 'e')"
      ]
     },
     "execution_count": 102,
     "metadata": {},
     "output_type": "execute_result"
    }
   ],
   "source": [
    "full_name[0], full_name[1], full_name[2], full_name[3], full_name[4], full_name[5], full_name[6], full_name[7], full_name[8], full_name[9], full_name[10], full_name[11], full_name[12], full_name[13], full_name[14]"
   ]
  },
  {
   "cell_type": "code",
   "execution_count": 101,
   "id": "c324aa1d",
   "metadata": {},
   "outputs": [
    {
     "data": {
      "text/plain": [
       "'Bon'"
      ]
     },
     "execution_count": 101,
     "metadata": {},
     "output_type": "execute_result"
    }
   ],
   "source": [
    "full_name[0::5]"
   ]
  },
  {
   "cell_type": "code",
   "execution_count": 103,
   "id": "da19ab96",
   "metadata": {},
   "outputs": [
    {
     "data": {
      "text/plain": [
       "'ebesnalO oyasuB'"
      ]
     },
     "execution_count": 103,
     "metadata": {},
     "output_type": "execute_result"
    }
   ],
   "source": [
    "full_name[::-1]"
   ]
  },
  {
   "cell_type": "code",
   "execution_count": 105,
   "id": "1a72eadb",
   "metadata": {},
   "outputs": [
    {
     "data": {
      "text/plain": [
       "'Busayo Olansebe'"
      ]
     },
     "execution_count": 105,
     "metadata": {},
     "output_type": "execute_result"
    }
   ],
   "source": [
    "full_name[0:7] + full_name[7:]"
   ]
  },
  {
   "cell_type": "code",
   "execution_count": 3,
   "id": "fd7780d3",
   "metadata": {},
   "outputs": [],
   "source": [
    "#built-in methods in strings\n",
    "country = \"ireland\""
   ]
  },
  {
   "cell_type": "code",
   "execution_count": 9,
   "id": "24970870",
   "metadata": {},
   "outputs": [
    {
     "data": {
      "text/plain": [
       "'Ireland'"
      ]
     },
     "execution_count": 9,
     "metadata": {},
     "output_type": "execute_result"
    }
   ],
   "source": [
    "country.capitalize()"
   ]
  },
  {
   "cell_type": "code",
   "execution_count": 8,
   "id": "3d6deb63",
   "metadata": {},
   "outputs": [
    {
     "data": {
      "text/plain": [
       "'Ireland'"
      ]
     },
     "execution_count": 8,
     "metadata": {},
     "output_type": "execute_result"
    }
   ],
   "source": [
    "country.capitalize()"
   ]
  },
  {
   "cell_type": "code",
   "execution_count": 5,
   "id": "934fd060",
   "metadata": {},
   "outputs": [
    {
     "data": {
      "text/plain": [
       "'IRELAND'"
      ]
     },
     "execution_count": 5,
     "metadata": {},
     "output_type": "execute_result"
    }
   ],
   "source": [
    "country.upper()"
   ]
  },
  {
   "cell_type": "code",
   "execution_count": 6,
   "id": "35be7796",
   "metadata": {},
   "outputs": [],
   "source": [
    "comment = \"I love 10Alytics\""
   ]
  },
  {
   "cell_type": "code",
   "execution_count": 14,
   "id": "f507baaf",
   "metadata": {},
   "outputs": [],
   "source": [
    "comment2 = \"I-love-10Alytics\""
   ]
  },
  {
   "cell_type": "code",
   "execution_count": 15,
   "id": "c58126c6",
   "metadata": {},
   "outputs": [
    {
     "data": {
      "text/plain": [
       "['I', 'love', '10Alytics']"
      ]
     },
     "execution_count": 15,
     "metadata": {},
     "output_type": "execute_result"
    }
   ],
   "source": [
    "comment.split()"
   ]
  },
  {
   "cell_type": "code",
   "execution_count": 18,
   "id": "26361e90",
   "metadata": {},
   "outputs": [
    {
     "data": {
      "text/plain": [
       "['I-love-10Alytics']"
      ]
     },
     "execution_count": 18,
     "metadata": {},
     "output_type": "execute_result"
    }
   ],
   "source": [
    "comment2.split()"
   ]
  },
  {
   "cell_type": "code",
   "execution_count": 19,
   "id": "b878d5b0",
   "metadata": {},
   "outputs": [
    {
     "data": {
      "text/plain": [
       "['I', 'love', '10Alytics']"
      ]
     },
     "execution_count": 19,
     "metadata": {},
     "output_type": "execute_result"
    }
   ],
   "source": [
    "comment2.split('-')"
   ]
  },
  {
   "cell_type": "markdown",
   "id": "d3a9789c",
   "metadata": {},
   "source": [
    "## Print Formatting\n",
    "There are several ways to present the output of a program, data can be printed in a human-readable form, or written to a file for future use, or even in some other specified form. Sometimes user often wants more control over the formatting of output than simply printing space-separated values. There are several ways to format output. "
   ]
  },
  {
   "cell_type": "code",
   "execution_count": null,
   "id": "eda91aae",
   "metadata": {},
   "outputs": [],
   "source": []
  },
  {
   "cell_type": "markdown",
   "id": "38b5d40a",
   "metadata": {},
   "source": []
  },
  {
   "cell_type": "code",
   "execution_count": 23,
   "id": "a3bcc22d",
   "metadata": {},
   "outputs": [
    {
     "name": "stdout",
     "output_type": "stream",
     "text": [
      "Enter your name:Adebisi\n",
      "Enter your age:25\n"
     ]
    }
   ],
   "source": [
    "name = input('Enter your name:')\n",
    "age = input('Enter your age:')"
   ]
  },
  {
   "cell_type": "code",
   "execution_count": 20,
   "id": "d4571116",
   "metadata": {},
   "outputs": [],
   "source": [
    "name = \"Busayo\"\n",
    "age = 20 "
   ]
  },
  {
   "cell_type": "code",
   "execution_count": 25,
   "id": "5221e743",
   "metadata": {},
   "outputs": [
    {
     "data": {
      "text/plain": [
       "'Thank you Adebisi, we have verified you are 25 years old'"
      ]
     },
     "execution_count": 25,
     "metadata": {},
     "output_type": "execute_result"
    }
   ],
   "source": [
    "text = f\"Thank you {name}, we have verified you are {age} years old\"\n",
    "text"
   ]
  },
  {
   "cell_type": "code",
   "execution_count": 27,
   "id": "2dce46e9",
   "metadata": {},
   "outputs": [
    {
     "name": "stdout",
     "output_type": "stream",
     "text": [
      "my name is Damilola and i am 20 years old\n"
     ]
    }
   ],
   "source": [
    "# .format method\n",
    "print(\"my name is {} and i am {} years old\".format(name, age))"
   ]
  },
  {
   "cell_type": "code",
   "execution_count": 28,
   "id": "cf965d37",
   "metadata": {},
   "outputs": [
    {
     "name": "stdout",
     "output_type": "stream",
     "text": [
      "What is your first name: Rereoluwa\n",
      "What is your last name: Olansebe\n",
      "My first name is Rereoluwa and my last name is Olansebe. So my full name is Rereoluwa Olansebe\n"
     ]
    }
   ],
   "source": [
    "first_name = input(\"What is your first name: \")\n",
    "last_name = input(\"What is your last name: \")\n",
    "\n",
    "full_name = first_name + \" \" + last_name\n",
    "\n",
    "print(\"My first name is {} and my last name is {}. So my full name is {}\".format(first_name, last_name, full_name))"
   ]
  },
  {
   "cell_type": "code",
   "execution_count": 37,
   "id": "38f71384",
   "metadata": {},
   "outputs": [
    {
     "name": "stdout",
     "output_type": "stream",
     "text": [
      "What is your first name: Oluwaseyifunmi\n",
      "What is your last name: Olansebe\n",
      "My first name is Oluwaseyifunmi and my last name is Olansebe. So my full name is Oluwaseyifunmi Olansebe\n"
     ]
    }
   ],
   "source": [
    "first_name = input(\"What is your first name: \")\n",
    "last_name = input(\"What is your last name: \")\n",
    "\n",
    "full_name = first_name + \" \" + last_name\n",
    "\n",
    "text2 = f\"My first name is {first_name} and my last name is {last_name}. So my full name is {full_name}\"\n",
    "\n",
    "print(text2)"
   ]
  },
  {
   "cell_type": "code",
   "execution_count": 26,
   "id": "c8bef070",
   "metadata": {},
   "outputs": [
    {
     "name": "stdout",
     "output_type": "stream",
     "text": [
      "my name is Damilola and i am 20 years old\n"
     ]
    }
   ],
   "source": [
    "#Placeholder\n",
    "\n",
    "name = \"Damilola\"\n",
    "age = 20\n",
    "\n",
    "print(\"my name is %s and i am %s years old\" %(name, age))"
   ]
  },
  {
   "cell_type": "code",
   "execution_count": 38,
   "id": "6476399b",
   "metadata": {},
   "outputs": [
    {
     "name": "stdout",
     "output_type": "stream",
     "text": [
      "my name is Damilola and i am 20 years old\n"
     ]
    }
   ],
   "source": [
    "#F-strings\n",
    "\n",
    "name = \"Damilola\"\n",
    "age = 20\n",
    "\n",
    "print(f\"my name is {name} and i am {age} years old\")"
   ]
  },
  {
   "cell_type": "markdown",
   "id": "65563437",
   "metadata": {},
   "source": [
    "## List\n",
    "An ordered sequence of items is called List. It is a very flexible data type in Python. There is no need for the value in the list to be of the same data type. The List is the data type that is highly used data type in Python. List datatype is the most exclusive datatype in Python for containing versatile data. It can easily hold different types of data in Python.  "
   ]
  },
  {
   "cell_type": "code",
   "execution_count": null,
   "id": "e7e3608b",
   "metadata": {},
   "outputs": [],
   "source": []
  },
  {
   "cell_type": "code",
   "execution_count": null,
   "id": "60167a16",
   "metadata": {},
   "outputs": [],
   "source": []
  },
  {
   "cell_type": "code",
   "execution_count": 47,
   "id": "176637f3",
   "metadata": {},
   "outputs": [],
   "source": [
    "lists = [20,'Joyce',[3.2, 4,'Dami'], {'key':'value'}]\n"
   ]
  },
  {
   "cell_type": "code",
   "execution_count": 48,
   "id": "1c34bce9",
   "metadata": {},
   "outputs": [
    {
     "data": {
      "text/plain": [
       "[20, 'Joyce', [3.2, 4, 'Dami'], {'key': 'value'}]"
      ]
     },
     "execution_count": 48,
     "metadata": {},
     "output_type": "execute_result"
    }
   ],
   "source": [
    "lists"
   ]
  },
  {
   "cell_type": "code",
   "execution_count": 70,
   "id": "cee57a63",
   "metadata": {},
   "outputs": [
    {
     "name": "stdout",
     "output_type": "stream",
     "text": [
      "20 ----- <class 'int'>\n",
      "Joyce ----- <class 'str'>\n",
      "[3.2, 4, 'Dami'] ----- <class 'list'>\n",
      "{'key': 'value'} ----- <class 'dict'>\n"
     ]
    }
   ],
   "source": [
    "for i in lists:\n",
    "    print(i, '-----', type(i))"
   ]
  },
  {
   "cell_type": "code",
   "execution_count": 52,
   "id": "902b6857",
   "metadata": {},
   "outputs": [],
   "source": [
    "name = [\"Dami\", \"Uche\", \"Jumoke\", \"Demola\", \"Adebisi\"]"
   ]
  },
  {
   "cell_type": "code",
   "execution_count": 53,
   "id": "7113b9cf",
   "metadata": {},
   "outputs": [
    {
     "data": {
      "text/plain": [
       "['Dami', 'Uche', 'Jumoke', 'Demola', 'Adebisi']"
      ]
     },
     "execution_count": 53,
     "metadata": {},
     "output_type": "execute_result"
    }
   ],
   "source": [
    "name[0::]"
   ]
  },
  {
   "cell_type": "code",
   "execution_count": 71,
   "id": "51a704e2",
   "metadata": {},
   "outputs": [
    {
     "data": {
      "text/plain": [
       "['Dami', 'Uche', 'Jumoke', 'Demola', 'Adebisi', 'Oreoluwa']"
      ]
     },
     "execution_count": 71,
     "metadata": {},
     "output_type": "execute_result"
    }
   ],
   "source": [
    "name"
   ]
  },
  {
   "cell_type": "code",
   "execution_count": 54,
   "id": "6a969903",
   "metadata": {},
   "outputs": [],
   "source": [
    "age = [1,2,3,4,5]"
   ]
  },
  {
   "cell_type": "code",
   "execution_count": 55,
   "id": "ca6f02ee",
   "metadata": {},
   "outputs": [
    {
     "data": {
      "text/plain": [
       "[1, 2, 3, 4, 5]"
      ]
     },
     "execution_count": 55,
     "metadata": {},
     "output_type": "execute_result"
    }
   ],
   "source": [
    "age"
   ]
  },
  {
   "cell_type": "code",
   "execution_count": 56,
   "id": "c673455b",
   "metadata": {},
   "outputs": [],
   "source": [
    "my_list = [\"Yomi\", 10, 10.5, \"10Alytics\", 100.2]"
   ]
  },
  {
   "cell_type": "code",
   "execution_count": 57,
   "id": "a8f9070a",
   "metadata": {},
   "outputs": [
    {
     "data": {
      "text/plain": [
       "list"
      ]
     },
     "execution_count": 57,
     "metadata": {},
     "output_type": "execute_result"
    }
   ],
   "source": [
    "type(my_list)"
   ]
  },
  {
   "cell_type": "code",
   "execution_count": 58,
   "id": "79d66f1f",
   "metadata": {},
   "outputs": [
    {
     "data": {
      "text/plain": [
       "5"
      ]
     },
     "execution_count": 58,
     "metadata": {},
     "output_type": "execute_result"
    }
   ],
   "source": [
    "len(my_list)"
   ]
  },
  {
   "cell_type": "code",
   "execution_count": 59,
   "id": "da853aa1",
   "metadata": {},
   "outputs": [
    {
     "data": {
      "text/plain": [
       "'Yomi'"
      ]
     },
     "execution_count": 59,
     "metadata": {},
     "output_type": "execute_result"
    }
   ],
   "source": [
    "#Indexing and Slicing\n",
    "my_list[0]"
   ]
  },
  {
   "cell_type": "code",
   "execution_count": 60,
   "id": "ba24ebb1",
   "metadata": {},
   "outputs": [
    {
     "data": {
      "text/plain": [
       "100.2"
      ]
     },
     "execution_count": 60,
     "metadata": {},
     "output_type": "execute_result"
    }
   ],
   "source": [
    "my_list[4]"
   ]
  },
  {
   "cell_type": "code",
   "execution_count": 61,
   "id": "85a989c3",
   "metadata": {},
   "outputs": [
    {
     "data": {
      "text/plain": [
       "100.2"
      ]
     },
     "execution_count": 61,
     "metadata": {},
     "output_type": "execute_result"
    }
   ],
   "source": [
    "my_list[-1]"
   ]
  },
  {
   "cell_type": "code",
   "execution_count": 62,
   "id": "bdaee4ba",
   "metadata": {},
   "outputs": [
    {
     "data": {
      "text/plain": [
       "['Yomi', '10Alytics']"
      ]
     },
     "execution_count": 62,
     "metadata": {},
     "output_type": "execute_result"
    }
   ],
   "source": [
    "#Slicing\n",
    "my_list[0::3]"
   ]
  },
  {
   "cell_type": "code",
   "execution_count": 63,
   "id": "77536d79",
   "metadata": {},
   "outputs": [
    {
     "data": {
      "text/plain": [
       "[10, 100.2]"
      ]
     },
     "execution_count": 63,
     "metadata": {},
     "output_type": "execute_result"
    }
   ],
   "source": [
    "my_list[1::3]"
   ]
  },
  {
   "cell_type": "code",
   "execution_count": 64,
   "id": "ec40f19f",
   "metadata": {},
   "outputs": [
    {
     "data": {
      "text/plain": [
       "['Dami', 'Uche', 'Jumoke', 'Demola', 'Adebisi']"
      ]
     },
     "execution_count": 64,
     "metadata": {},
     "output_type": "execute_result"
    }
   ],
   "source": [
    "name"
   ]
  },
  {
   "cell_type": "code",
   "execution_count": 76,
   "id": "27902852",
   "metadata": {},
   "outputs": [
    {
     "data": {
      "text/plain": [
       "[1,\n",
       " 2,\n",
       " 3,\n",
       " 4,\n",
       " 5,\n",
       " 'Dami',\n",
       " 'Uche',\n",
       " 'Jumoke',\n",
       " 'Demola',\n",
       " 'Adebisi',\n",
       " 'Oreoluwa',\n",
       " ['Chuka'],\n",
       " ['Chuka']]"
      ]
     },
     "execution_count": 76,
     "metadata": {},
     "output_type": "execute_result"
    }
   ],
   "source": [
    "age+name"
   ]
  },
  {
   "cell_type": "code",
   "execution_count": 77,
   "id": "c3d57e6b",
   "metadata": {},
   "outputs": [
    {
     "data": {
      "text/plain": [
       "[[1, 2, 3, 4, 5],\n",
       " ['Dami',\n",
       "  'Uche',\n",
       "  'Jumoke',\n",
       "  'Demola',\n",
       "  'Adebisi',\n",
       "  'Oreoluwa',\n",
       "  ['Chuka'],\n",
       "  ['Chuka']]]"
      ]
     },
     "execution_count": 77,
     "metadata": {},
     "output_type": "execute_result"
    }
   ],
   "source": [
    "[age]+[name]"
   ]
  },
  {
   "cell_type": "code",
   "execution_count": 65,
   "id": "e760b1fc",
   "metadata": {},
   "outputs": [
    {
     "data": {
      "text/plain": [
       "['Dami', 'Uche', 'Jumoke', 'Demola', 'Adebisi', 'Sodiq']"
      ]
     },
     "execution_count": 65,
     "metadata": {},
     "output_type": "execute_result"
    }
   ],
   "source": [
    "name_1 = name + [\"Sodiq\"]\n",
    "\n",
    "name_1"
   ]
  },
  {
   "cell_type": "code",
   "execution_count": 66,
   "id": "f31568db",
   "metadata": {},
   "outputs": [],
   "source": [
    "name.append(\"Oreoluwa\")"
   ]
  },
  {
   "cell_type": "code",
   "execution_count": 83,
   "id": "f2c2e8b4",
   "metadata": {},
   "outputs": [
    {
     "data": {
      "text/plain": [
       "['Dami',\n",
       " 'Uche',\n",
       " 'Jumoke',\n",
       " 'Demola',\n",
       " 'Adebisi',\n",
       " 'Oreoluwa',\n",
       " ['Chuka'],\n",
       " ['Chuka'],\n",
       " 'Bayo',\n",
       " 'Bayo']"
      ]
     },
     "execution_count": 83,
     "metadata": {},
     "output_type": "execute_result"
    }
   ],
   "source": [
    "name"
   ]
  },
  {
   "cell_type": "code",
   "execution_count": 74,
   "id": "537f0f29",
   "metadata": {},
   "outputs": [],
   "source": [
    "name.append([\"Chuka\"])"
   ]
  },
  {
   "cell_type": "code",
   "execution_count": 78,
   "id": "b213ceb2",
   "metadata": {},
   "outputs": [
    {
     "data": {
      "text/plain": [
       "['Dami',\n",
       " 'Uche',\n",
       " 'Jumoke',\n",
       " 'Demola',\n",
       " 'Adebisi',\n",
       " 'Oreoluwa',\n",
       " ['Chuka'],\n",
       " ['Chuka']]"
      ]
     },
     "execution_count": 78,
     "metadata": {},
     "output_type": "execute_result"
    }
   ],
   "source": [
    "name"
   ]
  },
  {
   "cell_type": "code",
   "execution_count": 84,
   "id": "53689f59",
   "metadata": {},
   "outputs": [],
   "source": [
    "name.extend(['Bayo'])"
   ]
  },
  {
   "cell_type": "code",
   "execution_count": 85,
   "id": "af0467d6",
   "metadata": {},
   "outputs": [
    {
     "data": {
      "text/plain": [
       "['Dami',\n",
       " 'Uche',\n",
       " 'Jumoke',\n",
       " 'Demola',\n",
       " 'Adebisi',\n",
       " 'Oreoluwa',\n",
       " ['Chuka'],\n",
       " ['Chuka'],\n",
       " 'Bayo',\n",
       " 'Bayo',\n",
       " 'Bayo']"
      ]
     },
     "execution_count": 85,
     "metadata": {},
     "output_type": "execute_result"
    }
   ],
   "source": [
    "name"
   ]
  },
  {
   "cell_type": "code",
   "execution_count": 86,
   "id": "d7c8f92c",
   "metadata": {},
   "outputs": [
    {
     "data": {
      "text/plain": [
       "'Bayo'"
      ]
     },
     "execution_count": 86,
     "metadata": {},
     "output_type": "execute_result"
    }
   ],
   "source": [
    "name.pop()"
   ]
  },
  {
   "cell_type": "code",
   "execution_count": null,
   "id": "9b78a9ab",
   "metadata": {},
   "outputs": [],
   "source": [
    "name.pop()"
   ]
  },
  {
   "cell_type": "code",
   "execution_count": 87,
   "id": "eec85c80",
   "metadata": {},
   "outputs": [
    {
     "data": {
      "text/plain": [
       "'Dami'"
      ]
     },
     "execution_count": 87,
     "metadata": {},
     "output_type": "execute_result"
    }
   ],
   "source": [
    "name.pop(0)"
   ]
  },
  {
   "cell_type": "code",
   "execution_count": 88,
   "id": "5f76cb2e",
   "metadata": {},
   "outputs": [
    {
     "data": {
      "text/plain": [
       "['Uche',\n",
       " 'Jumoke',\n",
       " 'Demola',\n",
       " 'Adebisi',\n",
       " 'Oreoluwa',\n",
       " ['Chuka'],\n",
       " ['Chuka'],\n",
       " 'Bayo',\n",
       " 'Bayo']"
      ]
     },
     "execution_count": 88,
     "metadata": {},
     "output_type": "execute_result"
    }
   ],
   "source": [
    "name"
   ]
  },
  {
   "cell_type": "code",
   "execution_count": 89,
   "id": "2f7a5643",
   "metadata": {},
   "outputs": [],
   "source": [
    "list_1 = [10, 1, 2, 3, 4, 20, 35]"
   ]
  },
  {
   "cell_type": "code",
   "execution_count": 90,
   "id": "f3d5adeb",
   "metadata": {},
   "outputs": [
    {
     "data": {
      "text/plain": [
       "[35, 20, 4, 3, 2, 1, 10]"
      ]
     },
     "execution_count": 90,
     "metadata": {},
     "output_type": "execute_result"
    }
   ],
   "source": [
    "list_1.reverse()\n",
    "\n",
    "list_1"
   ]
  },
  {
   "cell_type": "code",
   "execution_count": 91,
   "id": "6954edaa",
   "metadata": {},
   "outputs": [
    {
     "data": {
      "text/plain": [
       "[1, 2, 3, 4, 10, 20, 35]"
      ]
     },
     "execution_count": 91,
     "metadata": {},
     "output_type": "execute_result"
    }
   ],
   "source": [
    "list_1.sort()\n",
    "\n",
    "list_1"
   ]
  },
  {
   "cell_type": "markdown",
   "id": "b22c077c",
   "metadata": {},
   "source": [
    "## Dictionaries\n",
    "Dictionary is a type of python data type in which collections are unordered, and values are in pairs called key-value pairs. This type of data type is useful when there is a high volume of data. Braces {} (curly brackets) are used to define dictionaries data type in Python. A Pair in the dictionary data type is an item which is represented as key:value. The value and the key can be of any data type."
   ]
  },
  {
   "cell_type": "code",
   "execution_count": 92,
   "id": "95a876e6",
   "metadata": {},
   "outputs": [],
   "source": [
    "my_dict = {\"key1\": \"Value1\", \"key2\":\"value2\", \"key3\":\"value3\"}"
   ]
  },
  {
   "cell_type": "code",
   "execution_count": 100,
   "id": "902da715",
   "metadata": {},
   "outputs": [
    {
     "data": {
      "text/plain": [
       "{'key1': 'Value1', 'key2': 'value2', 'key3': 'value3'}"
      ]
     },
     "execution_count": 100,
     "metadata": {},
     "output_type": "execute_result"
    }
   ],
   "source": [
    "my_dict"
   ]
  },
  {
   "cell_type": "code",
   "execution_count": 94,
   "id": "912f469c",
   "metadata": {},
   "outputs": [
    {
     "data": {
      "text/plain": [
       "'value2'"
      ]
     },
     "execution_count": 94,
     "metadata": {},
     "output_type": "execute_result"
    }
   ],
   "source": [
    "my_dict[\"key2\"]"
   ]
  },
  {
   "cell_type": "code",
   "execution_count": 95,
   "id": "4142dad5",
   "metadata": {},
   "outputs": [
    {
     "data": {
      "text/plain": [
       "dict_keys(['key1', 'key2', 'key3'])"
      ]
     },
     "execution_count": 95,
     "metadata": {},
     "output_type": "execute_result"
    }
   ],
   "source": [
    "my_dict.keys()"
   ]
  },
  {
   "cell_type": "code",
   "execution_count": 104,
   "id": "0b88334b",
   "metadata": {},
   "outputs": [],
   "source": [
    "animal = {\"dog\":\"Bingo\", \"cat\":\"Murphy\", \"Donkey\":\"Chris\", \"Lion\": \"Damilola\"}"
   ]
  },
  {
   "cell_type": "code",
   "execution_count": 105,
   "id": "605ea82e",
   "metadata": {},
   "outputs": [
    {
     "data": {
      "text/plain": [
       "{'dog': 'Bingo', 'cat': 'Murphy', 'Donkey': 'Chris', 'Lion': 'Damilola'}"
      ]
     },
     "execution_count": 105,
     "metadata": {},
     "output_type": "execute_result"
    }
   ],
   "source": [
    "animal"
   ]
  },
  {
   "cell_type": "code",
   "execution_count": 106,
   "id": "ead9ac42",
   "metadata": {},
   "outputs": [
    {
     "data": {
      "text/plain": [
       "'Bingo'"
      ]
     },
     "execution_count": 106,
     "metadata": {},
     "output_type": "execute_result"
    }
   ],
   "source": [
    "animal[\"dog\"]"
   ]
  },
  {
   "cell_type": "code",
   "execution_count": 107,
   "id": "d9316dad",
   "metadata": {},
   "outputs": [],
   "source": [
    "customer = {\"name\": \"Chidozie\", \"age\": 21, \"address\": \"no 42 kowonleru Junction, Isale Eko\", \"Phone_no\": \"08055674125\"}"
   ]
  },
  {
   "cell_type": "code",
   "execution_count": 108,
   "id": "aa65d285",
   "metadata": {},
   "outputs": [
    {
     "data": {
      "text/plain": [
       "'no 42 kowonleru Junction, Isale Eko'"
      ]
     },
     "execution_count": 108,
     "metadata": {},
     "output_type": "execute_result"
    }
   ],
   "source": [
    "customer[\"address\"]"
   ]
  },
  {
   "cell_type": "code",
   "execution_count": 109,
   "id": "46aa4f21",
   "metadata": {},
   "outputs": [],
   "source": [
    "dist_1 = {\"key1\": 12.56, \"Key2\": [12, 35, 46], \"Key3\": [\"Chidi\", \"Chuka\", \"Emeka\"]}"
   ]
  },
  {
   "cell_type": "code",
   "execution_count": 110,
   "id": "32447aad",
   "metadata": {},
   "outputs": [
    {
     "data": {
      "text/plain": [
       "46"
      ]
     },
     "execution_count": 110,
     "metadata": {},
     "output_type": "execute_result"
    }
   ],
   "source": [
    "dist_1[\"Key2\"][2]"
   ]
  },
  {
   "cell_type": "code",
   "execution_count": 111,
   "id": "35f5b7dd",
   "metadata": {},
   "outputs": [],
   "source": [
    "dt = {}"
   ]
  },
  {
   "cell_type": "code",
   "execution_count": 112,
   "id": "14f278a8",
   "metadata": {},
   "outputs": [
    {
     "data": {
      "text/plain": [
       "{}"
      ]
     },
     "execution_count": 112,
     "metadata": {},
     "output_type": "execute_result"
    }
   ],
   "source": [
    "dt"
   ]
  },
  {
   "cell_type": "code",
   "execution_count": 113,
   "id": "d2c65a44",
   "metadata": {},
   "outputs": [],
   "source": [
    "dt[\"name\"] = \"Michael\""
   ]
  },
  {
   "cell_type": "code",
   "execution_count": 114,
   "id": "2b1fedb1",
   "metadata": {},
   "outputs": [],
   "source": [
    "dt[\"age\"] = \"55\""
   ]
  },
  {
   "cell_type": "code",
   "execution_count": 115,
   "id": "eba4b73b",
   "metadata": {},
   "outputs": [
    {
     "data": {
      "text/plain": [
       "{'name': 'Michael', 'age': '55'}"
      ]
     },
     "execution_count": 115,
     "metadata": {},
     "output_type": "execute_result"
    }
   ],
   "source": [
    "dt"
   ]
  },
  {
   "cell_type": "code",
   "execution_count": 116,
   "id": "f0803294",
   "metadata": {},
   "outputs": [
    {
     "name": "stdout",
     "output_type": "stream",
     "text": [
      "What is your name: Mike\n",
      "What is your fixed cost: 500\n",
      "What is your variable cost: 400\n"
     ]
    },
    {
     "data": {
      "text/plain": [
       "{'name': 'Mike', 'fixed_cost': 500, 'variable_cost': 400, 'total_cost': 900}"
      ]
     },
     "execution_count": 116,
     "metadata": {},
     "output_type": "execute_result"
    }
   ],
   "source": [
    "cost = {}\n",
    "\n",
    "name = input(\"What is your name: \")\n",
    "fixed_cost = int(input(\"What is your fixed cost: \"))\n",
    "variable_cost = int(input(\"What is your variable cost: \"))\n",
    "\n",
    "total_cost = fixed_cost + variable_cost\n",
    "\n",
    "cost[\"name\"] = name\n",
    "cost[\"fixed_cost\"] = fixed_cost\n",
    "cost[\"variable_cost\"] = variable_cost\n",
    "cost[\"total_cost\"] = total_cost\n",
    "\n",
    "cost"
   ]
  },
  {
   "cell_type": "code",
   "execution_count": 118,
   "id": "9b293e00",
   "metadata": {},
   "outputs": [
    {
     "data": {
      "text/plain": [
       "'Mike'"
      ]
     },
     "execution_count": 118,
     "metadata": {},
     "output_type": "execute_result"
    }
   ],
   "source": [
    "cost[\"name\"]"
   ]
  },
  {
   "cell_type": "code",
   "execution_count": 117,
   "id": "cc5f2779",
   "metadata": {},
   "outputs": [
    {
     "data": {
      "text/plain": [
       "dict_keys(['name', 'fixed_cost', 'variable_cost', 'total_cost'])"
      ]
     },
     "execution_count": 117,
     "metadata": {},
     "output_type": "execute_result"
    }
   ],
   "source": [
    "cost.keys()"
   ]
  },
  {
   "cell_type": "code",
   "execution_count": 119,
   "id": "e07a3336",
   "metadata": {},
   "outputs": [
    {
     "data": {
      "text/plain": [
       "dict_values(['Mike', 500, 400, 900])"
      ]
     },
     "execution_count": 119,
     "metadata": {},
     "output_type": "execute_result"
    }
   ],
   "source": [
    "cost.values()"
   ]
  },
  {
   "cell_type": "markdown",
   "id": "03729bf5",
   "metadata": {},
   "source": [
    "## Tuple\n",
    "A Tuple is a sequence of items that are in order, and it is not possible to modify the Tuples. The main difference list and tuples are that tuple is immutable, which means it cannot be altered. Tuples are generally faster than the list data type in Python because it cannot be changed or modified like list datatype. The primary use of Tuples is to write-protect data. Tuples can be represented by using parentheses (), and commas are used to separate the items. \n",
    "\n",
    "Days of the week, Months of the year, DOB, etc"
   ]
  },
  {
   "cell_type": "code",
   "execution_count": 120,
   "id": "c6e6ce0e",
   "metadata": {},
   "outputs": [],
   "source": [
    "tup = (1,2,3,4,5)"
   ]
  },
  {
   "cell_type": "code",
   "execution_count": 121,
   "id": "870001a7",
   "metadata": {},
   "outputs": [
    {
     "data": {
      "text/plain": [
       "(1, 2, 3, 4, 5)"
      ]
     },
     "execution_count": 121,
     "metadata": {},
     "output_type": "execute_result"
    }
   ],
   "source": [
    "tup"
   ]
  },
  {
   "cell_type": "code",
   "execution_count": 123,
   "id": "00d156ca",
   "metadata": {},
   "outputs": [
    {
     "data": {
      "text/plain": [
       "1"
      ]
     },
     "execution_count": 123,
     "metadata": {},
     "output_type": "execute_result"
    }
   ],
   "source": [
    "tup[0]"
   ]
  },
  {
   "cell_type": "code",
   "execution_count": 124,
   "id": "a90006c1",
   "metadata": {},
   "outputs": [
    {
     "data": {
      "text/plain": [
       "5"
      ]
     },
     "execution_count": 124,
     "metadata": {},
     "output_type": "execute_result"
    }
   ],
   "source": [
    "len(tup)"
   ]
  },
  {
   "cell_type": "code",
   "execution_count": 125,
   "id": "c141aab4",
   "metadata": {},
   "outputs": [],
   "source": [
    "tup_1 = (1, 2.4, \"Wale\", \"10Alytics\", \"Efe\",1,1,1,1,1,1,1,1,1,1)"
   ]
  },
  {
   "cell_type": "code",
   "execution_count": 126,
   "id": "21f33f5f",
   "metadata": {},
   "outputs": [
    {
     "data": {
      "text/plain": [
       "15"
      ]
     },
     "execution_count": 126,
     "metadata": {},
     "output_type": "execute_result"
    }
   ],
   "source": [
    "len(tup_1)"
   ]
  },
  {
   "cell_type": "code",
   "execution_count": 127,
   "id": "28c0353b",
   "metadata": {},
   "outputs": [
    {
     "data": {
      "text/plain": [
       "1"
      ]
     },
     "execution_count": 127,
     "metadata": {},
     "output_type": "execute_result"
    }
   ],
   "source": [
    "tup_1[-1]"
   ]
  },
  {
   "cell_type": "markdown",
   "id": "407b40ea",
   "metadata": {},
   "source": [
    "## Set\n",
    "The Collection of Unique items that are not in order is called Set. Braces {} are used to defined set and a comma is used to separate values. One will find that the items are unordered in a set data type.\n",
    "\n",
    "Duplicates are eliminated in a set and set only keeps unique values. Operations like intersection and union can be performed on two sets. "
   ]
  },
  {
   "cell_type": "code",
   "execution_count": 128,
   "id": "f7229791",
   "metadata": {},
   "outputs": [],
   "source": [
    "a = {2,2,2,2,1,1,1,3,4,5,6,6,7,7,7}"
   ]
  },
  {
   "cell_type": "code",
   "execution_count": 129,
   "id": "f09741bc",
   "metadata": {},
   "outputs": [
    {
     "data": {
      "text/plain": [
       "{1, 2, 3, 4, 5, 6, 7}"
      ]
     },
     "execution_count": 129,
     "metadata": {},
     "output_type": "execute_result"
    }
   ],
   "source": [
    "a"
   ]
  },
  {
   "cell_type": "code",
   "execution_count": 130,
   "id": "ae1629d5",
   "metadata": {},
   "outputs": [],
   "source": [
    "name = set()"
   ]
  },
  {
   "cell_type": "code",
   "execution_count": 131,
   "id": "27c63e05",
   "metadata": {},
   "outputs": [
    {
     "data": {
      "text/plain": [
       "set()"
      ]
     },
     "execution_count": 131,
     "metadata": {},
     "output_type": "execute_result"
    }
   ],
   "source": [
    "name"
   ]
  },
  {
   "cell_type": "code",
   "execution_count": 132,
   "id": "d05a0a95",
   "metadata": {},
   "outputs": [],
   "source": [
    "name.add(\"Dami\")"
   ]
  },
  {
   "cell_type": "code",
   "execution_count": 133,
   "id": "38651da7",
   "metadata": {},
   "outputs": [],
   "source": [
    "name.add(\"jumoke\")"
   ]
  },
  {
   "cell_type": "code",
   "execution_count": 134,
   "id": "858e3520",
   "metadata": {},
   "outputs": [],
   "source": [
    "name.add(\"Yemi\")"
   ]
  },
  {
   "cell_type": "code",
   "execution_count": 135,
   "id": "25bad387",
   "metadata": {},
   "outputs": [
    {
     "data": {
      "text/plain": [
       "{'Dami', 'Yemi', 'jumoke'}"
      ]
     },
     "execution_count": 135,
     "metadata": {},
     "output_type": "execute_result"
    }
   ],
   "source": [
    "name"
   ]
  },
  {
   "cell_type": "code",
   "execution_count": 137,
   "id": "ef10893e",
   "metadata": {},
   "outputs": [],
   "source": [
    "num = [1,1,1,1,2,2,2,2,3,3,3,3,3,3,4,4,4,4,5,5,5,5,6,6,6,6,7,7,7,7,8,8,8,8,8]"
   ]
  },
  {
   "cell_type": "code",
   "execution_count": 138,
   "id": "e18f85e4",
   "metadata": {},
   "outputs": [
    {
     "data": {
      "text/plain": [
       "[1,\n",
       " 1,\n",
       " 1,\n",
       " 1,\n",
       " 2,\n",
       " 2,\n",
       " 2,\n",
       " 2,\n",
       " 3,\n",
       " 3,\n",
       " 3,\n",
       " 3,\n",
       " 3,\n",
       " 3,\n",
       " 4,\n",
       " 4,\n",
       " 4,\n",
       " 4,\n",
       " 5,\n",
       " 5,\n",
       " 5,\n",
       " 5,\n",
       " 6,\n",
       " 6,\n",
       " 6,\n",
       " 6,\n",
       " 7,\n",
       " 7,\n",
       " 7,\n",
       " 7,\n",
       " 8,\n",
       " 8,\n",
       " 8,\n",
       " 8,\n",
       " 8]"
      ]
     },
     "execution_count": 138,
     "metadata": {},
     "output_type": "execute_result"
    }
   ],
   "source": [
    "num\n"
   ]
  },
  {
   "cell_type": "code",
   "execution_count": 139,
   "id": "4600d805",
   "metadata": {},
   "outputs": [],
   "source": [
    "st = set(num)"
   ]
  },
  {
   "cell_type": "code",
   "execution_count": 140,
   "id": "26d56dd9",
   "metadata": {},
   "outputs": [
    {
     "data": {
      "text/plain": [
       "{1, 2, 3, 4, 5, 6, 7, 8}"
      ]
     },
     "execution_count": 140,
     "metadata": {},
     "output_type": "execute_result"
    }
   ],
   "source": [
    "st"
   ]
  },
  {
   "cell_type": "markdown",
   "id": "9feac85f",
   "metadata": {},
   "source": [
    "## Booleans\n",
    "There can be only two types of value in the Boolean data type of Python, and that is True or False. "
   ]
  },
  {
   "cell_type": "code",
   "execution_count": 141,
   "id": "2636596f",
   "metadata": {},
   "outputs": [
    {
     "data": {
      "text/plain": [
       "bool"
      ]
     },
     "execution_count": 141,
     "metadata": {},
     "output_type": "execute_result"
    }
   ],
   "source": [
    "type(1 == 1)"
   ]
  },
  {
   "cell_type": "code",
   "execution_count": 142,
   "id": "507efdd5",
   "metadata": {},
   "outputs": [
    {
     "data": {
      "text/plain": [
       "bool"
      ]
     },
     "execution_count": 142,
     "metadata": {},
     "output_type": "execute_result"
    }
   ],
   "source": [
    "type(False)"
   ]
  },
  {
   "cell_type": "code",
   "execution_count": 144,
   "id": "893b69e1",
   "metadata": {},
   "outputs": [
    {
     "data": {
      "text/plain": [
       "True"
      ]
     },
     "execution_count": 144,
     "metadata": {},
     "output_type": "execute_result"
    }
   ],
   "source": [
    "1 == 1"
   ]
  },
  {
   "cell_type": "code",
   "execution_count": 143,
   "id": "b0e4217c",
   "metadata": {},
   "outputs": [
    {
     "data": {
      "text/plain": [
       "False"
      ]
     },
     "execution_count": 143,
     "metadata": {},
     "output_type": "execute_result"
    }
   ],
   "source": [
    "10 >= 20"
   ]
  },
  {
   "cell_type": "markdown",
   "id": "30361ab9",
   "metadata": {},
   "source": [
    "## Comparison Operators\n",
    "Comparison operators are used to compare two values:\n",
    "\n",
    "* == Equals to\n",
    "* != Not Equals to\n",
    "* #> Greater than\n",
    "* #>= Greater than or equals to\n",
    "* < Less than\n",
    "* <= Less than of equals to\n",
    "* ~ negation "
   ]
  },
  {
   "cell_type": "code",
   "execution_count": 145,
   "id": "d0445503",
   "metadata": {},
   "outputs": [
    {
     "data": {
      "text/plain": [
       "True"
      ]
     },
     "execution_count": 145,
     "metadata": {},
     "output_type": "execute_result"
    }
   ],
   "source": [
    "10<=20"
   ]
  },
  {
   "cell_type": "code",
   "execution_count": 146,
   "id": "dc114147",
   "metadata": {},
   "outputs": [
    {
     "data": {
      "text/plain": [
       "True"
      ]
     },
     "execution_count": 146,
     "metadata": {},
     "output_type": "execute_result"
    }
   ],
   "source": [
    "20 <= 20"
   ]
  },
  {
   "cell_type": "code",
   "execution_count": 147,
   "id": "90b9a1f3",
   "metadata": {},
   "outputs": [
    {
     "data": {
      "text/plain": [
       "True"
      ]
     },
     "execution_count": 147,
     "metadata": {},
     "output_type": "execute_result"
    }
   ],
   "source": [
    "10 != 100"
   ]
  },
  {
   "cell_type": "markdown",
   "id": "174662e2",
   "metadata": {},
   "source": [
    "## If, Elif, Else Statement\n",
    "The Python if statement is same as it is with other programming languages. It executes a set of statements conditionally, based on the value of a logical expression.\n",
    "\n",
    "In Python if .. else statement, if has two blocks, one following the expression and other following the else clause. \n",
    "\n",
    "The if-elif-else statement is used to conditionally execute a statement or a block of statements. Conditions can be true or false, execute one thing when the condition is true, something else when the condition is false."
   ]
  },
  {
   "cell_type": "markdown",
   "id": "d432a5fa",
   "metadata": {},
   "source": [
    "name = Efemena\n"
   ]
  },
  {
   "cell_type": "code",
   "execution_count": 158,
   "id": "bcec2df3",
   "metadata": {},
   "outputs": [
    {
     "data": {
      "text/plain": [
       "'Efemena'"
      ]
     },
     "execution_count": 158,
     "metadata": {},
     "output_type": "execute_result"
    }
   ],
   "source": [
    "name"
   ]
  },
  {
   "cell_type": "code",
   "execution_count": 160,
   "id": "b47e34c4",
   "metadata": {},
   "outputs": [
    {
     "name": "stdout",
     "output_type": "stream",
     "text": [
      "What is your name: Efemena\n",
      "What is your age: 15\n",
      "You are not welcome here. Goodbye Efemena\n"
     ]
    }
   ],
   "source": [
    "name = input(\"What is your name: \")\n",
    "age = int(input(\"What is your age: \"))\n",
    "\n",
    "if name == \"Efemena\" and age > 18 :\n",
    "    print(f\"Welcome to our kingdom {name}, with {age}\")\n",
    "else:\n",
    "    print(f\"You are not welcome here. Goodbye {name}\")"
   ]
  },
  {
   "cell_type": "raw",
   "id": "283b5607",
   "metadata": {},
   "source": [
    "Username = input(\"What is your name: \")\n",
    "password = int(input(\"What is your password: \"))\n",
    "\n",
    "if Username == \"Efemena\" and password == 1234 \n",
    "    print(f\"Welcome to our kingdom {username}, with {password}\")\n",
    "else:\n",
    "    print(\" Username/Password in correct}\")"
   ]
  },
  {
   "cell_type": "code",
   "execution_count": null,
   "id": "d513ec71",
   "metadata": {},
   "outputs": [],
   "source": []
  },
  {
   "cell_type": "code",
   "execution_count": 166,
   "id": "52368cae",
   "metadata": {},
   "outputs": [
    {
     "name": "stdout",
     "output_type": "stream",
     "text": [
      "What is your name: Ore\n",
      "Welcome to our Palace Ore\n"
     ]
    }
   ],
   "source": [
    "name = input(\"What is your name: \")\n",
    "\n",
    "if name == \"Efemena\":\n",
    "    print(f\"Welcome to our kingdom {name}\")\n",
    "elif name == \"Ore\":\n",
    "    print(f\"Welcome to our Palace {name}\")\n",
    "elif name == \"Demola\":\n",
    "    print(f\"Welcome to our Country {name}\")\n",
    "elif name == \"Chidozie\":\n",
    "    print(f\"Welcome to our Village {name}\")\n",
    "elif name == \"Yomi\":\n",
    "    print(f\"Welcome to our Home {name}\")\n",
    "else:\n",
    "    print(f\"You are not welcome here. Goodbye {name}\")"
   ]
  },
  {
   "cell_type": "code",
   "execution_count": 167,
   "id": "ed1df9c7",
   "metadata": {},
   "outputs": [
    {
     "name": "stdout",
     "output_type": "stream",
     "text": [
      "What is your name: BJ\n",
      "What is the score for your first test: 30\n",
      "What is the score for your second test: 20\n",
      "What is the score for your attendance: 10\n",
      "What is the score for your exam: 30\n",
      "-------------------------------------------\n",
      "Hello BJ, Your total score is 90 and your grade is A\n"
     ]
    }
   ],
   "source": [
    "name = input(\"What is your name: \")\n",
    "f_test = int(input(\"What is the score for your first test: \"))\n",
    "s_test = int(input(\"What is the score for your second test: \"))\n",
    "attd = int(input(\"What is the score for your attendance: \"))\n",
    "exam = int(input(\"What is the score for your exam: \"))\n",
    "\n",
    "print(\"-------------------------------------------\")\n",
    "\n",
    "total_score = f_test + s_test + attd + exam\n",
    "\n",
    "if total_score >= 70:\n",
    "    grade = \"A\"\n",
    "elif total_score >= 60:\n",
    "    grade = \"B\"\n",
    "elif total_score >= 50:\n",
    "    grade = \"C\"\n",
    "elif total_score >= 40:\n",
    "    grade = \"D\"\n",
    "else:\n",
    "    grade = \"F\"\n",
    "\n",
    "print(f\"Hello {name}, Your total score is {total_score} and your grade is {grade}\")"
   ]
  },
  {
   "cell_type": "markdown",
   "id": "bdb3ce24",
   "metadata": {},
   "source": [
    "Example\n",
    "\n",
    "* customer type = Corporate and Retail\n",
    "* amount = \n",
    "\n",
    "* corporate\n",
    "* amt < 10000 = 20%\n",
    "* amt < 40000 = 25%\n",
    "* amt >100000 = 40%\n",
    "\n",
    "* Retail\n",
    "* amt < 10000 = 10%\n",
    "* amt < 40000 = 15%\n",
    "* amt >100000 = 30%\n",
    "\n",
    "* print the amount\n",
    "* print the discount\n",
    "* print the amt - discount"
   ]
  },
  {
   "cell_type": "code",
   "execution_count": 168,
   "id": "a3c3c3db",
   "metadata": {},
   "outputs": [
    {
     "name": "stdout",
     "output_type": "stream",
     "text": [
      "what type of customer are you: Retail\n",
      "What is your total amount: 3000\n",
      "---------------------------------\n",
      "You total amount is 3000\n",
      "Based on your customer type and amount, your discout is 0.1\n",
      "Your total amount is 2700.0\n"
     ]
    }
   ],
   "source": [
    "cust_type = input(\"what type of customer are you: \")\n",
    "amt = int(input(\"What is your total amount: \"))\n",
    "\n",
    "\n",
    "if cust_type == \"Corporate\":\n",
    "    if amt <= 10000:\n",
    "        discount = 0.2\n",
    "    elif amt <= 40000:\n",
    "        discount = 0.25\n",
    "    else:\n",
    "        discount = 0.4\n",
    "        \n",
    "if cust_type == \"Retail\":\n",
    "    if amt <= 10000:\n",
    "        discount = 0.1\n",
    "    elif amt <= 40000:\n",
    "        discount = 0.15\n",
    "    else:\n",
    "        discount = 0.3\n",
    "\n",
    "t_amt = amt - (amt * discount)\n",
    "\n",
    "print(\"---------------------------------\")\n",
    "print(f\"You total amount is {amt}\")\n",
    "print(f\"Based on your customer type and amount, your discout is {discount}\")\n",
    "print(f\"Your total amount is {t_amt}\")"
   ]
  },
  {
   "cell_type": "code",
   "execution_count": 169,
   "id": "40b38d53",
   "metadata": {},
   "outputs": [
    {
     "name": "stdout",
     "output_type": "stream",
     "text": [
      "what type customer are you: corporate\n",
      "whats your total amount: 5000\n",
      "-----------------------------------\n",
      "total amount is 5000\n",
      "based on your customer type and amount, your discount is 0.2\n",
      "total amount to be paid 4000.0\n"
     ]
    }
   ],
   "source": [
    "customerType = input(\"what type customer are you: \")\n",
    "amount = int(input(\"whats your total amount: \"))\n",
    "\n",
    "if customerType == \"corporate\" and amount <= 10000:\n",
    "    discount = 0.2\n",
    "elif customerType == \"corporate\" and amount <= 40000:\n",
    "    discount = 0.25\n",
    "elif customerType == \"corporate\" and amount > 40000:\n",
    "    discount = 0.4\n",
    "    \n",
    "if customerType == \"retail\" and amount <= 10000:\n",
    "    discount = 0.1\n",
    "elif customerType == \"retail\" and amount <= 40000:\n",
    "    discount = 0.15\n",
    "elif customerType == \"retail\" and amount > 40000:\n",
    "    discount = 0.3\n",
    "\n",
    "\n",
    "total_amt = amount - (amount * discount)\n",
    "        \n",
    "print(\"-----------------------------------\")\n",
    "\n",
    "print(f\"total amount is {amount}\")\n",
    "print(f\"based on your customer type and amount, your discount is {discount}\")\n",
    "print(f\"total amount to be paid {total_amt}\")"
   ]
  },
  {
   "cell_type": "code",
   "execution_count": null,
   "id": "e1127f7a",
   "metadata": {},
   "outputs": [],
   "source": [
    "print(\"efe /nmena\")"
   ]
  },
  {
   "cell_type": "markdown",
   "id": "9dfdd03e",
   "metadata": {},
   "source": [
    "## For Loop\n",
    "A for loop is used for iterating over a sequence (that is either a list, a tuple, a dictionary, a set, or a string).\n",
    "\n",
    "This is less like the for keyword in other programming languages, and works more like an iterator method as found in other object-orientated programming languages.\n",
    "\n",
    "With the for loop we can execute a set of statements, once for each item in a list, tuple, set etc."
   ]
  },
  {
   "cell_type": "code",
   "execution_count": 170,
   "id": "f4d8613e",
   "metadata": {},
   "outputs": [],
   "source": [
    "list1 = [1,2,3,4,5]"
   ]
  },
  {
   "cell_type": "code",
   "execution_count": 171,
   "id": "5e131ad5",
   "metadata": {},
   "outputs": [
    {
     "data": {
      "text/plain": [
       "[1, 2, 3, 4, 5]"
      ]
     },
     "execution_count": 171,
     "metadata": {},
     "output_type": "execute_result"
    }
   ],
   "source": [
    "list1"
   ]
  },
  {
   "cell_type": "code",
   "execution_count": 172,
   "id": "034d8b4a",
   "metadata": {},
   "outputs": [
    {
     "name": "stdout",
     "output_type": "stream",
     "text": [
      "1\n",
      "2\n",
      "3\n",
      "4\n",
      "5\n"
     ]
    }
   ],
   "source": [
    "for num in list1:\n",
    "    print(num)"
   ]
  },
  {
   "cell_type": "code",
   "execution_count": 173,
   "id": "2a00ac51",
   "metadata": {},
   "outputs": [
    {
     "name": "stdout",
     "output_type": "stream",
     "text": [
      "2 is an even number\n",
      "4 is an even number\n",
      "6 is an even number\n",
      "8 is an even number\n",
      "10 is an even number\n"
     ]
    }
   ],
   "source": [
    "# Print all even numbers\n",
    "\n",
    "list1 = [1,2,3,4,5,6,7,8,9,10]\n",
    "\n",
    "for i in list1:\n",
    "    if i % 2 == 0:\n",
    "        print(f\"{i} is an even number\")"
   ]
  },
  {
   "cell_type": "code",
   "execution_count": 174,
   "id": "7540da12",
   "metadata": {},
   "outputs": [
    {
     "name": "stdout",
     "output_type": "stream",
     "text": [
      "1 is an odd number\n",
      "3 is an odd number\n",
      "5 is an odd number\n",
      "7 is an odd number\n",
      "9 is an odd number\n"
     ]
    }
   ],
   "source": [
    "# Print all odd numbers\n",
    "\n",
    "list1 = [1,2,3,4,5,6,7,8,9,10]\n",
    "\n",
    "for i in list1:\n",
    "    if i % 2 == 1:\n",
    "        print(f\"{i} is an odd number\")"
   ]
  },
  {
   "cell_type": "code",
   "execution_count": 175,
   "id": "89b93362",
   "metadata": {},
   "outputs": [
    {
     "name": "stdout",
     "output_type": "stream",
     "text": [
      "1\n",
      "3\n",
      "6\n",
      "10\n",
      "15\n",
      "21\n",
      "28\n",
      "36\n",
      "45\n",
      "55\n"
     ]
    }
   ],
   "source": [
    "list1 = [1,2,3,4,5,6,7,8,9,10]\n",
    "sum_list = 0\n",
    "\n",
    "for i in list1:\n",
    "    sum_list = sum_list + i\n",
    "    print(sum_list)\n"
   ]
  },
  {
   "cell_type": "code",
   "execution_count": 176,
   "id": "c87e9666",
   "metadata": {},
   "outputs": [
    {
     "name": "stdout",
     "output_type": "stream",
     "text": [
      "10Alytics\n",
      "10Alytics\n",
      "10Alytics\n",
      "10Alytics\n",
      "10Alytics\n",
      "10Alytics\n",
      "10Alytics\n",
      "10Alytics\n",
      "10Alytics\n",
      "10Alytics\n"
     ]
    }
   ],
   "source": [
    "for i in list1:\n",
    "    print(\"10Alytics\")"
   ]
  },
  {
   "cell_type": "code",
   "execution_count": 177,
   "id": "00d92d28",
   "metadata": {},
   "outputs": [
    {
     "name": "stdout",
     "output_type": "stream",
     "text": [
      "Calculator\n",
      "0\n",
      "what is your score: 20\n",
      "20\n",
      "what is your score: 5\n",
      "25\n",
      "what is your score: 10\n",
      "35\n",
      "what is your score: 10\n",
      "45\n",
      "what is your score: 10\n",
      "-----------------------------\n",
      "Your final score is 55\n"
     ]
    }
   ],
   "source": [
    "num_times = [1,2,3,4,5]\n",
    "score = 0\n",
    "\n",
    "print(\"Calculator\")\n",
    "\n",
    "for i in num_times:\n",
    "    print(score)\n",
    "    num = int(input(\"what is your score: \"))\n",
    "    score = score + num\n",
    "    \n",
    "    \n",
    "    \n",
    "print(\"-----------------------------\")    \n",
    "print(f\"Your final score is {score}\")"
   ]
  },
  {
   "cell_type": "markdown",
   "id": "f5d212e0",
   "metadata": {},
   "source": [
    "## While Loop\n",
    "The while loop in Python is used to iterate over a block of code as long as the test expression (condition) is true.\n",
    "\n",
    "We generally use this loop when we don't know the number of times to iterate beforehand."
   ]
  },
  {
   "cell_type": "code",
   "execution_count": null,
   "id": "d9762330",
   "metadata": {},
   "outputs": [],
   "source": [
    "name = input(\"What is your name: \")\n",
    "\n",
    "while name == \"Efemena\":\n",
    "    print(\"10Alytics\")\n",
    "    name = input(\"What is your name: \")\n",
    "        "
   ]
  },
  {
   "cell_type": "code",
   "execution_count": null,
   "id": "0aa5c98f",
   "metadata": {},
   "outputs": [],
   "source": [
    "x = 0\n",
    "\n",
    "while x < 10:\n",
    "    print(f\"{x} is currently less than 10\")\n",
    "    x = x + 1 \n"
   ]
  },
  {
   "cell_type": "code",
   "execution_count": null,
   "id": "7c89ac35",
   "metadata": {},
   "outputs": [],
   "source": [
    "answer = \"yes\"\n",
    "\n",
    "while answer == \"yes\":\n",
    "    name = input(\"What is your name: \")\n",
    "    question = input(\"What training are you interested in: \")\n",
    "    print(\"-------------------------------\")\n",
    "    print(f\"hello {name}\")\n",
    "    print(f\"The training on {question} will commence shortly\")\n",
    "    \n",
    "    answer = input(\"Do you want to continue: yes/no\")\n",
    "    \n",
    "print(\"Goodbye\")"
   ]
  },
  {
   "cell_type": "markdown",
   "id": "857b429d",
   "metadata": {},
   "source": [
    "## Function\n",
    "In Python, a function is a group of related statements that performs a specific task.\n",
    "\n",
    "Functions help break our program into smaller and modular chunks. As our program grows larger and larger, functions make it more organized and manageable.\n",
    "\n",
    "Furthermore, it avoids repetition and makes the code reusable."
   ]
  },
  {
   "cell_type": "code",
   "execution_count": null,
   "id": "aaaaab7d",
   "metadata": {},
   "outputs": [],
   "source": [
    "list1 = [1,2,3,4,5]"
   ]
  },
  {
   "cell_type": "code",
   "execution_count": null,
   "id": "5adc85bf",
   "metadata": {},
   "outputs": [],
   "source": [
    "sum(list1)"
   ]
  },
  {
   "cell_type": "code",
   "execution_count": null,
   "id": "e223ec64",
   "metadata": {},
   "outputs": [],
   "source": [
    "def name_of_function(arg1,arg2):\n",
    "    '''\n",
    "    This is where the function's Document String (docstring) goes.\n",
    "    When you call help() on your function it will be printed out.\n",
    "    '''\n",
    "    # Do stuff here\n",
    "    # Return desired result"
   ]
  },
  {
   "cell_type": "code",
   "execution_count": null,
   "id": "0955b406",
   "metadata": {},
   "outputs": [],
   "source": [
    "def greeting():\n",
    "    print(\"hello\")"
   ]
  },
  {
   "cell_type": "code",
   "execution_count": null,
   "id": "c29c7042",
   "metadata": {},
   "outputs": [],
   "source": [
    "greeting()"
   ]
  },
  {
   "cell_type": "code",
   "execution_count": null,
   "id": "84cc2fb9",
   "metadata": {},
   "outputs": [],
   "source": [
    "def greeting():\n",
    "    name = input(\"What is your name: \")\n",
    "    print(f\"Hello {name}\")"
   ]
  },
  {
   "cell_type": "code",
   "execution_count": null,
   "id": "fde8b218",
   "metadata": {},
   "outputs": [],
   "source": [
    "greeting()"
   ]
  },
  {
   "cell_type": "code",
   "execution_count": null,
   "id": "73df56ed",
   "metadata": {},
   "outputs": [],
   "source": [
    "def addition():\n",
    "    num = 0\n",
    "    for i in range(3):\n",
    "        num_1 = float(input(\"Enter a number: \"))\n",
    "        num += num_1\n",
    "    print(\"-------\")\n",
    "    return print(f\"Your total is: {num}\")"
   ]
  },
  {
   "cell_type": "code",
   "execution_count": null,
   "id": "8fe5cc93",
   "metadata": {},
   "outputs": [],
   "source": [
    "addition()"
   ]
  },
  {
   "cell_type": "code",
   "execution_count": null,
   "id": "e00b36a9",
   "metadata": {},
   "outputs": [],
   "source": [
    "def sqr(x):\n",
    "    num = x ** 2\n",
    "    return num"
   ]
  },
  {
   "cell_type": "code",
   "execution_count": null,
   "id": "8245f3aa",
   "metadata": {},
   "outputs": [],
   "source": [
    "sqr(100)"
   ]
  },
  {
   "cell_type": "code",
   "execution_count": null,
   "id": "08036949",
   "metadata": {},
   "outputs": [],
   "source": [
    "# Convert any username into a lower case\n",
    "\n",
    "def convert(name):\n",
    "    user = name.lower()\n",
    "    return user"
   ]
  },
  {
   "cell_type": "code",
   "execution_count": null,
   "id": "4d4f4998",
   "metadata": {},
   "outputs": [],
   "source": [
    "convert(\"EFEMENA\")"
   ]
  },
  {
   "cell_type": "code",
   "execution_count": null,
   "id": "ce871b17",
   "metadata": {},
   "outputs": [],
   "source": [
    "def convert():\n",
    "    name = input(\"what is your name: \")\n",
    "    user = name.lower()\n",
    "    return user"
   ]
  },
  {
   "cell_type": "code",
   "execution_count": null,
   "id": "54977736",
   "metadata": {},
   "outputs": [],
   "source": [
    "convert()"
   ]
  },
  {
   "cell_type": "code",
   "execution_count": null,
   "id": "712f306b",
   "metadata": {},
   "outputs": [],
   "source": [
    "def ans():\n",
    "    answer = \"yes\"\n",
    "\n",
    "    while answer == \"yes\":\n",
    "        name = input(\"What is your name: \")\n",
    "        question = input(\"What training are you interested in: \")\n",
    "        print(\"-------------------------------\")\n",
    "        print(f\"hello {name}\")\n",
    "        print(f\"The training on {question} will commence shortly\")\n",
    "    \n",
    "        answer = input(\"Do you want to continue: yes/no: \")\n",
    "    \n",
    "    print(\"Goodbye\")"
   ]
  },
  {
   "cell_type": "code",
   "execution_count": null,
   "id": "eb3f0475",
   "metadata": {},
   "outputs": [],
   "source": [
    "ans()"
   ]
  },
  {
   "cell_type": "code",
   "execution_count": null,
   "id": "d07340c1",
   "metadata": {},
   "outputs": [],
   "source": [
    "# Guess game\n",
    "\n",
    "from random import shuffle\n",
    "\n",
    "list_1 = list(range(1,5))\n",
    "\n",
    "def game():\n",
    "    print(\"You have 5 trials\")\n",
    "    print(\"----------------------------\")\n",
    "    for i in range(5):\n",
    "        shuffle(list_1)\n",
    "        guess = list_1[3]\n",
    "        num = int(input(\"What is your lucky number: \"))\n",
    "        if guess == num:\n",
    "            print(\"You are the WINNER!!!\")\n",
    "        else:\n",
    "            print(\"JAPA\")\n",
    "            \n",
    "    return print(\"You are done\")"
   ]
  },
  {
   "cell_type": "code",
   "execution_count": null,
   "id": "4213d842",
   "metadata": {},
   "outputs": [],
   "source": [
    "game()"
   ]
  },
  {
   "cell_type": "code",
   "execution_count": null,
   "id": "4f7fd371",
   "metadata": {},
   "outputs": [],
   "source": [
    "def total_cost(fixed_cost, variable_cost, mixed_cost):\n",
    "    tc = fixed_cost + variable_cost + mixed_cost\n",
    "    return tc"
   ]
  },
  {
   "cell_type": "code",
   "execution_count": null,
   "id": "a50ecb22",
   "metadata": {},
   "outputs": [],
   "source": [
    "total_cost(10,50,100)"
   ]
  },
  {
   "cell_type": "markdown",
   "id": "bb829319",
   "metadata": {},
   "source": [
    "### Map Function\n",
    "Mapping consists of applying a transformation function to an iterable to produce a new iterable. Items in the new iterable are produced by calling the transformation function on each item in the original iterable."
   ]
  },
  {
   "cell_type": "code",
   "execution_count": null,
   "id": "79efe12c",
   "metadata": {},
   "outputs": [],
   "source": [
    "def sqr(x):\n",
    "    num = x ** 2\n",
    "    return num"
   ]
  },
  {
   "cell_type": "code",
   "execution_count": null,
   "id": "12bd7329",
   "metadata": {},
   "outputs": [],
   "source": [
    "num = list(range(1,11))\n",
    "num"
   ]
  },
  {
   "cell_type": "code",
   "execution_count": null,
   "id": "9d4e7153",
   "metadata": {},
   "outputs": [],
   "source": [
    "list(map(sqr, num))"
   ]
  },
  {
   "cell_type": "code",
   "execution_count": null,
   "id": "4974c56a",
   "metadata": {},
   "outputs": [],
   "source": [
    "def grade(x):\n",
    "    if x >= 70:\n",
    "        result = \"A\"\n",
    "    elif x >= 60:\n",
    "        result = \"B\"\n",
    "    elif x >= 50:\n",
    "        result = \"C\"\n",
    "    else:\n",
    "        result = \"F\"\n",
    "        \n",
    "    return result"
   ]
  },
  {
   "cell_type": "code",
   "execution_count": null,
   "id": "757ff118",
   "metadata": {},
   "outputs": [],
   "source": [
    "score = [50, 72, 45, 20, 63, 60]"
   ]
  },
  {
   "cell_type": "code",
   "execution_count": null,
   "id": "65da41f1",
   "metadata": {},
   "outputs": [],
   "source": [
    "list(map(grade, score))"
   ]
  },
  {
   "cell_type": "code",
   "execution_count": null,
   "id": "a5ddea54",
   "metadata": {},
   "outputs": [],
   "source": [
    "for i in score:\n",
    "    print(f'{i} is equivalent to {grade(i)}')"
   ]
  },
  {
   "cell_type": "code",
   "execution_count": null,
   "id": "11f3d244",
   "metadata": {},
   "outputs": [],
   "source": [
    "# if the length of your name is an even number return Yes else No\n",
    "\n",
    "name = [\"Damilola\", \"Michael\", \"Demola\", \"Jumoke\", \"Jay\", \"Chidozie\"]\n",
    "\n",
    "def even_odd(names):\n",
    "    if len(names) % 2 == 0:\n",
    "        category =  \"Even\"\n",
    "    else:\n",
    "         category = \"Odd\"\n",
    "    \n",
    "    return category"
   ]
  },
  {
   "cell_type": "code",
   "execution_count": null,
   "id": "cef10e59",
   "metadata": {},
   "outputs": [],
   "source": [
    "list(map(even_odd, name))"
   ]
  },
  {
   "cell_type": "markdown",
   "id": "684049a8",
   "metadata": {},
   "source": [
    "### Filter Function\n",
    "Filtering consists of applying a predicate or Boolean-valued function to an iterable to generate a new iterable. Items in the new iterable are produced by filtering out any items in the original iterable that make the predicate function return false."
   ]
  },
  {
   "cell_type": "code",
   "execution_count": null,
   "id": "cca0f2a5",
   "metadata": {},
   "outputs": [],
   "source": [
    "name = [\"Damilola\", \"Michael\", \"Demola\", \"Jumoke\", \"Jay\", \"Chidozie\"]\n",
    "\n",
    "def even_odd(x):\n",
    "    if len(x) % 2 == 0:\n",
    "        return x "
   ]
  },
  {
   "cell_type": "code",
   "execution_count": null,
   "id": "3809f8e2",
   "metadata": {},
   "outputs": [],
   "source": [
    "list(filter(even_odd, name))"
   ]
  },
  {
   "cell_type": "code",
   "execution_count": null,
   "id": "22bc3c98",
   "metadata": {},
   "outputs": [],
   "source": [
    "english = list(range(1, 21))\n",
    "english"
   ]
  },
  {
   "cell_type": "code",
   "execution_count": null,
   "id": "f1c70e70",
   "metadata": {},
   "outputs": [],
   "source": [
    "def even(x):\n",
    "    if x % 2 == 0:\n",
    "        return x "
   ]
  },
  {
   "cell_type": "code",
   "execution_count": null,
   "id": "cd511be2",
   "metadata": {},
   "outputs": [],
   "source": [
    "list(filter(even, english))"
   ]
  },
  {
   "cell_type": "markdown",
   "id": "f40294ff",
   "metadata": {},
   "source": [
    "### Lambda Expressions\n",
    "A lambda function is a small anonymous function.\n",
    "\n",
    "A lambda function can take any number of arguments, but can only have one expression."
   ]
  },
  {
   "cell_type": "code",
   "execution_count": null,
   "id": "6447fdf9",
   "metadata": {},
   "outputs": [],
   "source": [
    "x = lambda a: a + 10\n",
    "print(x(10))"
   ]
  },
  {
   "cell_type": "code",
   "execution_count": null,
   "id": "a9c589ee",
   "metadata": {},
   "outputs": [],
   "source": [
    "num = lambda a, b, c: a*b-c\n",
    "print(num(10, 5, 3))"
   ]
  }
 ],
 "metadata": {
  "kernelspec": {
   "display_name": "Python 3 (ipykernel)",
   "language": "python",
   "name": "python3"
  },
  "language_info": {
   "codemirror_mode": {
    "name": "ipython",
    "version": 3
   },
   "file_extension": ".py",
   "mimetype": "text/x-python",
   "name": "python",
   "nbconvert_exporter": "python",
   "pygments_lexer": "ipython3",
   "version": "3.9.12"
  }
 },
 "nbformat": 4,
 "nbformat_minor": 5
}
